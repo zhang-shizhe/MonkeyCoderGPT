{
 "cells": [
  {
   "cell_type": "code",
   "execution_count": 1,
   "id": "eb4737e4-b920-41cd-887b-eea2cc1e9b0f",
   "metadata": {},
   "outputs": [],
   "source": [
    "import os\n",
    "import random\n",
    "import torch\n",
    "import torch.nn as nn\n",
    "from torch.nn import functional as F"
   ]
  },
  {
   "cell_type": "markdown",
   "id": "8877d5de-19bd-4f8d-b9ce-9d453abbc2be",
   "metadata": {},
   "source": [
    "# extract text and create dataset"
   ]
  },
  {
   "cell_type": "code",
   "execution_count": 2,
   "id": "44fb714b-e291-4639-b0ed-7dd074b8ef9b",
   "metadata": {},
   "outputs": [],
   "source": [
    "def is_comment(line):\n",
    "    # Define a function to check if a line is a comment\n",
    "    line = line.strip()\n",
    "    if line.startswith('#') or line.startswith(\"'''\") or line.startswith('\"\"\"'):\n",
    "        return True\n",
    "    return False\n",
    "\n",
    "def extract_non_comments(source_directory, target_directory):\n",
    "    # Process all .py files in the specified directory and subdirectories\n",
    "    for root, dirs, files in os.walk(source_directory):\n",
    "        for file in files:\n",
    "            if file.endswith('.py'):\n",
    "                file_path = os.path.join(root, file)\n",
    "                target_file_path = os.path.join(target_directory, file.replace('.py', '.txt'))\n",
    "                with open(file_path, 'r') as source_file, open(target_file_path, 'w') as target_file:\n",
    "                    non_comments = []\n",
    "                    comment_block = False\n",
    "                    \n",
    "                    for line in source_file:\n",
    "                        # Check for the start or end of a comment block\n",
    "                        if \"''\" in line or '\"\"\"' in line:\n",
    "                            comment_block = not comment_block\n",
    "                            continue\n",
    "                        # If it's not a comment or part of a comment block, save it\n",
    "                        if not is_comment(line) and not comment_block:\n",
    "                            non_comments.append(line)\n",
    "                        # Write non-comment lines to a target .txt file\n",
    "                    target_file.writelines(non_comments)\n",
    "\n",
    "# # Define the path to the local repository (change this to the actual path of your local repo)\n",
    "# # source_directory = '/path/to/your/local/pytorch/repo'\n",
    "# source_directory = '.'\n",
    "# # target_directory = '/path/to/your/output/directory'\n",
    "# target_directory = './dataset/'\n",
    "\n",
    "\n",
    "# # Create the target directory if it doesn't exist\n",
    "# os.makedirs(target_directory, exist_ok=True)\n",
    "\n",
    "# # Call the function to start extracting non-comment lines\n",
    "# extract_non_comments(source_directory, target_directory)\n"
   ]
  },
  {
   "cell_type": "code",
   "execution_count": 3,
   "id": "954bd61d-0495-4afd-b754-36969e202bab",
   "metadata": {},
   "outputs": [
    {
     "name": "stdout",
     "output_type": "stream",
     "text": [
      "Combined file created as 'sample_scripts.txt' with contents from 1153 files.\n"
     ]
    }
   ],
   "source": [
    "\n",
    "def combine_files(directory, output_file, sample=False, num_files_to_sample=100, seed=111, start_token=\"<START>\", end_token=\"<END>\"):\n",
    "    \"\"\"\n",
    "    Combine content from a specified number of text files in a directory into one file, \n",
    "    with start and end tokens between contents from each file.\n",
    "\n",
    "    :param directory: Path to the directory containing text files.\n",
    "    :param output_file: Name of the output file to create.\n",
    "    :param num_files_to_sample: Number of files to sample and combine.\n",
    "    :param start_token: The start token to be added before each file's content.\n",
    "    :param end_token: The end token to be added after each file's content.\n",
    "    \"\"\"\n",
    "    \n",
    "    \n",
    "    # List all text files in the directory\n",
    "    all_files = [f for f in os.listdir(directory) if f.endswith('.txt')]\n",
    "    files = all_files\n",
    "\n",
    "    if sample:\n",
    "        # Sample the specified number of files\n",
    "        random.seed(seed)\n",
    "        files = random.sample(all_files, min(num_files_to_sample, len(all_files)))\n",
    "\n",
    "    # Start combining the sampled files\n",
    "    with open(output_file, 'w') as outfile:\n",
    "        for filename in files:\n",
    "            file_path = os.path.join(directory, filename)\n",
    "            with open(file_path, 'r') as infile:\n",
    "                outfile.write(start_token + '\\n')\n",
    "                content = infile.read()\n",
    "                content_with_tabs = content.replace('    ', '\\t')\n",
    "                outfile.write(content_with_tabs + '\\n')\n",
    "                outfile.write(end_token + '\\n\\n')\n",
    "\n",
    "    print(f\"Combined file created as '{output_file}' with contents from {len(files)} files.\")\n",
    "\n",
    "# Example usage\n",
    "combine_files('dataset/', 'sample_scripts.txt')\n"
   ]
  },
  {
   "cell_type": "code",
   "execution_count": 4,
   "id": "3f31df58-4700-4380-88a8-bbb297c931df",
   "metadata": {},
   "outputs": [],
   "source": [
    "# read it in to inspect it\n",
    "with open('sample_scripts.txt', 'r', encoding='utf-8') as f:\n",
    "    text = f.read()"
   ]
  },
  {
   "cell_type": "code",
   "execution_count": 5,
   "id": "6c19f8cc-ea26-4b5b-ab62-2d22cdbc15b7",
   "metadata": {},
   "outputs": [
    {
     "name": "stdout",
     "output_type": "stream",
     "text": [
      "length of dataset in characters:  8518735\n"
     ]
    }
   ],
   "source": [
    "print(\"length of dataset in characters: \", len(text))"
   ]
  },
  {
   "cell_type": "code",
   "execution_count": 6,
   "id": "6e0b01c0-81dc-4641-83a3-792396633be8",
   "metadata": {},
   "outputs": [
    {
     "name": "stdout",
     "output_type": "stream",
     "text": [
      "<START>\n",
      "\n",
      "from __future__ import annotations\n",
      "\n",
      "import dataclasses\n",
      "from typing import Optional\n",
      "\n",
      "from torch.onnx._internal.diagnostics.infra.sarif import (\n",
      "\t_artifact_location,\n",
      "\t_property_bag,\n",
      ")\n",
      "\n",
      "\n",
      "@dataclasses.dataclass\n",
      "class VersionControlDetails(object):\n",
      "\n",
      "<END>\n",
      "\n",
      "<START>\n",
      "from typing import Union\n",
      "\n",
      "import torch\n",
      "\n",
      "\n",
      "class _InsertPoint:\n",
      "\tdef __init__(\n",
      "\t\tself,\n",
      "\t\tinsert_point_graph: torch._C.Graph,\n",
      "\t\tinsert_point: Union[torch._C.Node, torch._C.Block],\n",
      "\t):\n",
      "\t\tself.insert_point = insert_point\n",
      "\t\tself.g = insert_point_graph\n",
      "\t\tself.guard = None\n",
      "\n",
      "\tdef __enter__(self):\n",
      "\t\tself.prev_insert_point = self.g.insertPoint()\n",
      "\t\tself.g.setInsertPoint(self.insert_point)\n",
      "\n",
      "\tdef __exit__(self, *args):\n",
      "\t\tself.g.setInsertPoint(self.prev_insert_point)\n",
      "\n",
      "\n",
      "def insert_point_guard(self, insert_point: Union[torch._C.Node, torch._C.Block]):\n",
      "\treturn _InsertPoint(self, insert_point)\n",
      "\n",
      "<END>\n",
      "\n",
      "<START>\n",
      "import contextlib\n",
      "import logging\n",
      "import math\n",
      "import warnings\n",
      "from typing import Any, Callable, cast, Dict, Generator, Iterator, no_typ\n"
     ]
    }
   ],
   "source": [
    "print(text[:1000])"
   ]
  },
  {
   "cell_type": "code",
   "execution_count": 52,
   "id": "b72fd8ba-74d7-4040-a498-eacaa9b0e723",
   "metadata": {},
   "outputs": [
    {
     "data": {
      "text/plain": [
       "'\\t\\n !\"#$%&\\'()*+,-./0123456789:;<=>?@ABCDEFGHIJKLMNOPQRSTUVWXYZ[\\\\]^_`abcdefghijklmnopqrstuvwxyz{|}~–≤⊑⊔⊳─│└├✓'"
      ]
     },
     "execution_count": 52,
     "metadata": {},
     "output_type": "execute_result"
    }
   ],
   "source": [
    "# here are all the unique characters that occur in this text\n",
    "chars = sorted(list(set(text)))\n",
    "vocab_size = len(chars)\n",
    "''.join(chars)"
   ]
  },
  {
   "cell_type": "code",
   "execution_count": 53,
   "id": "77b7f505-3c24-41cf-8c16-070ba7d26eb1",
   "metadata": {},
   "outputs": [
    {
     "name": "stdout",
     "output_type": "stream",
     "text": [
      "107\n"
     ]
    }
   ],
   "source": [
    "print(vocab_size)"
   ]
  },
  {
   "cell_type": "markdown",
   "id": "65dbdd55-c84b-462a-83fa-5b9272b1e97f",
   "metadata": {},
   "source": [
    "# encoding and decoding for chars"
   ]
  },
  {
   "cell_type": "code",
   "execution_count": 8,
   "id": "444a70cd-2509-42c9-bdac-214c6076d9aa",
   "metadata": {},
   "outputs": [
    {
     "name": "stdout",
     "output_type": "stream",
     "text": [
      "[75, 79, 82, 81, 84, 86, 2, 86, 81, 84, 69, 74]\n",
      "import torch\n"
     ]
    }
   ],
   "source": [
    "# create a mapping from characters to integers\n",
    "ch_to_idx = { ch:i for i,ch in enumerate(chars) }\n",
    "idx_to_ch = { i:ch for i,ch in enumerate(chars) }\n",
    "encode = lambda s: [ch_to_idx[ch] for ch in s] # encoder: take a string, output a list of mapping idx\n",
    "decode = lambda l: ''.join([idx_to_ch[idx] for idx in l]) # decoder: take a list of index, output a string\n",
    "\n",
    "print(encode(\"import torch\"))\n",
    "print(decode(encode(\"import torch\")))"
   ]
  },
  {
   "cell_type": "code",
   "execution_count": 9,
   "id": "9f4c44dc-93a7-4184-a915-42f1d8400198",
   "metadata": {},
   "outputs": [
    {
     "name": "stdout",
     "output_type": "stream",
     "text": [
      "torch.Size([8518735]) torch.int64\n",
      "tensor([30, 53, 54, 35, 52, 54, 32,  1,  1, 72, 84, 81, 79,  2, 65, 65, 72, 87,\n",
      "        86, 87, 84, 71, 65, 65,  2, 75, 79, 82, 81, 84, 86,  2, 67, 80, 80, 81,\n",
      "        86, 67, 86, 75, 81, 80, 85,  1,  1, 75, 79, 82, 81, 84, 86,  2, 70, 67,\n",
      "        86, 67, 69, 78, 67, 85, 85, 71, 85,  1, 72, 84, 81, 79,  2, 86, 91, 82,\n",
      "        75, 80, 73,  2, 75, 79, 82, 81, 84, 86,  2, 49, 82, 86, 75, 81, 80, 67,\n",
      "        78,  1,  1, 72, 84, 81, 79,  2, 86, 81])\n"
     ]
    }
   ],
   "source": [
    "# encode the entire text dataset and store it into a torch.Tensor\n",
    "data = torch.tensor(encode(text), dtype=torch.long)\n",
    "print(data.shape, data.dtype)\n",
    "print(data[:100])"
   ]
  },
  {
   "cell_type": "markdown",
   "id": "a9427660-f082-46be-97d9-cd471b8aa26c",
   "metadata": {},
   "source": [
    "# train dev split"
   ]
  },
  {
   "cell_type": "code",
   "execution_count": 10,
   "id": "725693c4-15e1-4d3b-a036-cb52b2b42089",
   "metadata": {},
   "outputs": [],
   "source": [
    "n = int(0.9 * len(data))\n",
    "train_data = data[:n]\n",
    "val_data = data[n:]"
   ]
  },
  {
   "cell_type": "code",
   "execution_count": null,
   "id": "ce40248d-dabc-4c5e-a2cf-8970ebfe5cb5",
   "metadata": {},
   "outputs": [],
   "source": []
  },
  {
   "cell_type": "code",
   "execution_count": 11,
   "id": "6cacc69e-43e0-4561-8475-7f7305c1203c",
   "metadata": {},
   "outputs": [
    {
     "name": "stdout",
     "output_type": "stream",
     "text": [
      "when input is tensor([30]) the target: 53\n",
      "when input is tensor([30, 53]) the target: 54\n",
      "when input is tensor([30, 53, 54]) the target: 35\n",
      "when input is tensor([30, 53, 54, 35]) the target: 52\n",
      "when input is tensor([30, 53, 54, 35, 52]) the target: 54\n",
      "when input is tensor([30, 53, 54, 35, 52, 54]) the target: 32\n",
      "when input is tensor([30, 53, 54, 35, 52, 54, 32]) the target: 1\n",
      "when input is tensor([30, 53, 54, 35, 52, 54, 32,  1]) the target: 1\n"
     ]
    }
   ],
   "source": [
    "context_length = 8\n",
    "x = train_data[:context_length]\n",
    "y = train_data[1:context_length+1]\n",
    "for t in range(context_length):\n",
    "    context = x[:t+1]\n",
    "    target = y[t]\n",
    "    print(f\"when input is {context} the target: {target}\")"
   ]
  },
  {
   "cell_type": "code",
   "execution_count": 14,
   "id": "9ec801a0-ce4b-4011-877f-0067e665d340",
   "metadata": {},
   "outputs": [
    {
     "name": "stdout",
     "output_type": "stream",
     "text": [
      "inputs:\n",
      "torch.Size([4, 8])\n",
      "tensor([[84, 11,  1,  0,  0, 84, 71, 86],\n",
      "        [67, 86, 75, 69, 79, 71, 86, 74],\n",
      "        [67, 86, 71, 80, 16, 80, 67, 86],\n",
      "        [67, 79, 71, 85,  2, 10, 89, 75]])\n",
      "targets:\n",
      "torch.Size([4, 8])\n",
      "tensor([[11,  1,  0,  0, 84, 71, 86, 87],\n",
      "        [86, 75, 69, 79, 71, 86, 74, 81],\n",
      "        [86, 71, 80, 16, 80, 67, 86, 75],\n",
      "        [79, 71, 85,  2, 10, 89, 75, 86]])\n",
      "----\n",
      "when input is [84] the target: 11\n",
      "when input is [84, 11] the target: 1\n",
      "when input is [84, 11, 1] the target: 0\n",
      "when input is [84, 11, 1, 0] the target: 0\n",
      "when input is [84, 11, 1, 0, 0] the target: 84\n",
      "when input is [84, 11, 1, 0, 0, 84] the target: 71\n",
      "when input is [84, 11, 1, 0, 0, 84, 71] the target: 86\n",
      "when input is [84, 11, 1, 0, 0, 84, 71, 86] the target: 87\n",
      "when input is [67] the target: 86\n",
      "when input is [67, 86] the target: 75\n",
      "when input is [67, 86, 75] the target: 69\n",
      "when input is [67, 86, 75, 69] the target: 79\n",
      "when input is [67, 86, 75, 69, 79] the target: 71\n",
      "when input is [67, 86, 75, 69, 79, 71] the target: 86\n",
      "when input is [67, 86, 75, 69, 79, 71, 86] the target: 74\n",
      "when input is [67, 86, 75, 69, 79, 71, 86, 74] the target: 81\n",
      "when input is [67] the target: 86\n",
      "when input is [67, 86] the target: 71\n",
      "when input is [67, 86, 71] the target: 80\n",
      "when input is [67, 86, 71, 80] the target: 16\n",
      "when input is [67, 86, 71, 80, 16] the target: 80\n",
      "when input is [67, 86, 71, 80, 16, 80] the target: 67\n",
      "when input is [67, 86, 71, 80, 16, 80, 67] the target: 86\n",
      "when input is [67, 86, 71, 80, 16, 80, 67, 86] the target: 75\n",
      "when input is [67] the target: 79\n",
      "when input is [67, 79] the target: 71\n",
      "when input is [67, 79, 71] the target: 85\n",
      "when input is [67, 79, 71, 85] the target: 2\n",
      "when input is [67, 79, 71, 85, 2] the target: 10\n",
      "when input is [67, 79, 71, 85, 2, 10] the target: 89\n",
      "when input is [67, 79, 71, 85, 2, 10, 89] the target: 75\n",
      "when input is [67, 79, 71, 85, 2, 10, 89, 75] the target: 86\n"
     ]
    }
   ],
   "source": [
    "torch.manual_seed(111)\n",
    "batch_size = 4\n",
    "context_length = 8\n",
    "\n",
    "def get_batch(split):\n",
    "    # generate a small batch of data of inputs x and targets y\n",
    "    data = train_data if split == 'train' else val_data\n",
    "    start_idxs = torch.randint(len(data) - context_length, (batch_size,))\n",
    "    context_idxs = torch.stack([data[start_idx : start_idx+context_length] for start_idx in start_idxs])\n",
    "    target_idxs = torch.stack([data[start_idx+1 : start_idx+context_length+1] for start_idx in start_idxs])\n",
    "    return context_idxs, target_idxs\n",
    "\n",
    "context_idxs, target_idxs = get_batch('train')\n",
    "print('inputs:')\n",
    "print(context_idxs.shape)\n",
    "print(context_idxs)\n",
    "print('targets:')\n",
    "print(target_idxs.shape)\n",
    "print(target_idxs)\n",
    "\n",
    "print('----')\n",
    "\n",
    "for b in range(batch_size): # batch dimension\n",
    "    for step in range(context_length): # time dimension\n",
    "        context = context_idxs[b, :step+1]\n",
    "        target = target_idxs[b,step]\n",
    "        print(f\"when input is {context.tolist()} the target: {target}\")"
   ]
  },
  {
   "cell_type": "code",
   "execution_count": 48,
   "id": "b3880a56-be00-480d-a300-dfaaae9ece79",
   "metadata": {},
   "outputs": [
    {
     "name": "stdout",
     "output_type": "stream",
     "text": [
      "torch.Size([32, 107])\n",
      "tensor(5.4190, grad_fn=<NllLossBackward0>)\n"
     ]
    },
    {
     "data": {
      "text/plain": [
       "['\\tr7[lYl%k└J!└=\"5{NE(* .\\tD&C_@I9PJ⊔i4G2─eG│`XTIBa]─?N\"`.P)}5:uvNo%Q(Nife✓?*q0r|\\tZu,s.✓@xv,6#=n⊳geS⊔)Q9',\n",
       " '\\tV–*–s^✓I:hEA\\n,6yGj$4\"4!e4│[I#wQ<pN├>OH{├`XT7y}a\\\\MHtHjLpzM⊔<rF✓.bYA\\nCe└l└JIBrCVTO7✓ I^<)xT`\\t2y[]E≤.*s',\n",
       " '\\t3B:L^oFKjy_ISG1m%Adi\\tG\\\\6edNLo]2X≤jIVhRt;CvHI\\n├Q(Q└BA>--ID├Q9Pb9#FXw~Qp=@1HezrGSFwV–GS\\\\)v─CwSInM5HN.4',\n",
       " '\\tZMU├IIRLMwY⊳H\\n>tn%T3.n\\n#gN├cp+≤hd2X^nqg:Ux\"a;/⊔R└vL\\nYQ<>![nF|;4z)}\\'w`/\\'0UK\\tAB-y✓r&=jUnbe`Xs5H\\n>f^[└g',\n",
       " '\\t\\nuqLSd|8V\\t@x–*\\'xe&d Shv\"w9aK`Wg6K<d!+4⊔~├0Q#x5{XPA7PY≤7U\\nQ≤?Q-*raeUkM)~XV\\n=Ugp≤4G,*│-uOZ\\n*6N≤,C;\"(O9']"
      ]
     },
     "execution_count": 48,
     "metadata": {},
     "output_type": "execute_result"
    }
   ],
   "source": [
    "torch.manual_seed(111)\n",
    "\n",
    "class BigramLanguageModel(nn.Module):\n",
    "\n",
    "    def __init__(self, vocab_size):\n",
    "        super().__init__()\n",
    "        # works as a look up table for the probability of the next char for each current char\n",
    "        self.token_embedding_table = nn.Embedding(vocab_size, vocab_size)\n",
    "\n",
    "    def forward(self, context_idxs, target_idxs=None):\n",
    "\n",
    "        # context_idxs, target_idxs are both (b,step) tensor of integers\n",
    "        logits = self.token_embedding_table(context_idxs) # the shape of the logits: (b, step, embedding_dim)\n",
    "        \n",
    "        if target_idxs is None:\n",
    "            loss = None\n",
    "        else:\n",
    "            b, step, embedding_dim = logits.shape\n",
    "            logits = logits.view(b * step, embedding_dim)\n",
    "            target_idxs = target_idxs.view(b * step)\n",
    "            loss = F.cross_entropy(logits, target_idxs)\n",
    "\n",
    "        return logits, loss\n",
    "    \n",
    "    def generate(self, context_idxs, max_new_tokens):\n",
    "        for _ in range(max_new_tokens):\n",
    "            # forward\n",
    "            logits, loss = self(context_idxs)\n",
    "            \n",
    "            # focus only on the last time step\n",
    "            logits = logits[:, -1, :] # (b, embedding_dim) tensor for the last step\n",
    "            probs = F.softmax(logits, dim=-1) # predicted_label (b, embedding_dim)\n",
    "            \n",
    "            # sample from the distribution\n",
    "\n",
    "            # torch.multinomial: Returns a tensor where each row contains num_samples indices \n",
    "            # sampled from the multinomial probability distribution located in the corresponding row of tensor input.\n",
    "            pred_idxs = torch.multinomial(probs, num_samples=1) # (b, 1)\n",
    "            # append sampled index to the running sequence\n",
    "            context_idxs = torch.cat((context_idxs, pred_idxs), dim=1) # (b, step+1)\n",
    "        return context_idxs\n",
    "\n",
    "model = BigramLanguageModel(vocab_size)\n",
    "logits, loss = model(context_idxs, target_idxs)\n",
    "print(logits.shape)\n",
    "print(loss)\n",
    "\n",
    "# decode 5 batches of data, the in\n",
    "[decode(model.generate(context_idxs=torch.zeros((5, 1), dtype=torch.long), max_new_tokens=100)[i].tolist()) for i in range(5)]"
   ]
  },
  {
   "cell_type": "code",
   "execution_count": 50,
   "id": "8443e3c8-f03b-41a1-8474-1500f42eb3f6",
   "metadata": {},
   "outputs": [
    {
     "data": {
      "text/plain": [
       "'\\t'"
      ]
     },
     "execution_count": 50,
     "metadata": {},
     "output_type": "execute_result"
    }
   ],
   "source": [
    "decode([0])"
   ]
  },
  {
   "cell_type": "code",
   "execution_count": null,
   "id": "c45c532d-e92c-4543-baee-ded729824667",
   "metadata": {},
   "outputs": [],
   "source": []
  }
 ],
 "metadata": {
  "kernelspec": {
   "display_name": "Python [conda env:llm]",
   "language": "python",
   "name": "conda-env-llm-py"
  },
  "language_info": {
   "codemirror_mode": {
    "name": "ipython",
    "version": 3
   },
   "file_extension": ".py",
   "mimetype": "text/x-python",
   "name": "python",
   "nbconvert_exporter": "python",
   "pygments_lexer": "ipython3",
   "version": "3.11.6"
  }
 },
 "nbformat": 4,
 "nbformat_minor": 5
}
